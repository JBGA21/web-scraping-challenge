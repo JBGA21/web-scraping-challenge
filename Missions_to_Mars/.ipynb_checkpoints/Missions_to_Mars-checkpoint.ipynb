{
 "cells": [
  {
   "cell_type": "code",
   "execution_count": 1,
   "metadata": {},
   "outputs": [],
   "source": [
    "# pip install splinter"
   ]
  },
  {
   "cell_type": "code",
   "execution_count": 2,
   "metadata": {},
   "outputs": [],
   "source": [
    "# pip install Flask-PyMongo"
   ]
  },
  {
   "cell_type": "code",
   "execution_count": 3,
   "metadata": {},
   "outputs": [
    {
     "name": "stdout",
     "output_type": "stream",
     "text": [
      "Requirement already satisfied: webdriver_manager in /Users/jesusbeltrangalindo/opt/anaconda3/envs/pythonData/lib/python3.6/site-packages (3.4.2)\n",
      "Requirement already satisfied: requests in /Users/jesusbeltrangalindo/opt/anaconda3/envs/pythonData/lib/python3.6/site-packages (from webdriver_manager) (2.24.0)\n",
      "Requirement already satisfied: crayons in /Users/jesusbeltrangalindo/opt/anaconda3/envs/pythonData/lib/python3.6/site-packages (from webdriver_manager) (0.4.0)\n",
      "Requirement already satisfied: configparser in /Users/jesusbeltrangalindo/opt/anaconda3/envs/pythonData/lib/python3.6/site-packages (from webdriver_manager) (5.0.2)\n",
      "Requirement already satisfied: certifi>=2017.4.17 in /Users/jesusbeltrangalindo/opt/anaconda3/envs/pythonData/lib/python3.6/site-packages (from requests->webdriver_manager) (2020.6.20)\n",
      "Requirement already satisfied: chardet<4,>=3.0.2 in /Users/jesusbeltrangalindo/opt/anaconda3/envs/pythonData/lib/python3.6/site-packages (from requests->webdriver_manager) (3.0.4)\n",
      "Requirement already satisfied: idna<3,>=2.5 in /Users/jesusbeltrangalindo/opt/anaconda3/envs/pythonData/lib/python3.6/site-packages (from requests->webdriver_manager) (2.10)\n",
      "Requirement already satisfied: urllib3!=1.25.0,!=1.25.1,<1.26,>=1.21.1 in /Users/jesusbeltrangalindo/opt/anaconda3/envs/pythonData/lib/python3.6/site-packages (from requests->webdriver_manager) (1.25.9)\n",
      "Requirement already satisfied: colorama in /Users/jesusbeltrangalindo/opt/anaconda3/envs/pythonData/lib/python3.6/site-packages (from crayons->webdriver_manager) (0.4.3)\n",
      "Note: you may need to restart the kernel to use updated packages.\n"
     ]
    }
   ],
   "source": [
    "pip install webdriver_manager"
   ]
  },
  {
   "cell_type": "code",
   "execution_count": 4,
   "metadata": {},
   "outputs": [],
   "source": [
    "# Dependencies \n",
    "from bs4 import BeautifulSoup as bs\n",
    "import requests \n",
    "import pymongo \n",
    "from splinter import Browser\n",
    "from flask import Flask, render_template, redirect\n",
    "from flask_pymongo import PyMongo\n",
    "import pandas as pd"
   ]
  },
  {
   "cell_type": "code",
   "execution_count": 5,
   "metadata": {},
   "outputs": [],
   "source": [
    "from webdriver_manager.chrome import ChromeDriverManager "
   ]
  },
  {
   "cell_type": "code",
   "execution_count": 6,
   "metadata": {},
   "outputs": [
    {
     "name": "stderr",
     "output_type": "stream",
     "text": [
      "\n",
      "\n",
      "====== WebDriver manager ======\n",
      "Current google-chrome version is 91.0.4472\n",
      "Get LATEST driver version for 91.0.4472\n",
      "Driver [/Users/jesusbeltrangalindo/.wdm/drivers/chromedriver/mac64/91.0.4472.101/chromedriver] found in cache\n"
     ]
    }
   ],
   "source": [
    "# executable path to driver \n",
    "\n",
    "executable_path = {'executable_path': ChromeDriverManager().install()}\n",
    "\n",
    "browser = Browser('chrome', **executable_path, headless=False) \n",
    "\n",
    "url = 'https://mars.nasa.gov/news/'\n",
    "\n",
    "browser.visit(url)"
   ]
  },
  {
   "cell_type": "code",
   "execution_count": null,
   "metadata": {},
   "outputs": [],
   "source": [
    "# Getting the Title\n",
    "\n",
    "html = browser.html\n",
    "\n",
    "soup = BeautifulSoup(html, 'html.parser')\n",
    "\n",
    "news_title = soup.find('div', class_='content_title').find('a').text\n",
    "\n",
    "# print(news_title)"
   ]
  },
  {
   "cell_type": "code",
   "execution_count": null,
   "metadata": {},
   "outputs": [],
   "source": [
    "# Getting the Paragraph\n",
    "\n",
    "news_p = soup.find('div', class_='article_teaser_body').text\n",
    "\n",
    "# print(news_p)"
   ]
  }
 ],
 "metadata": {
  "kernelspec": {
   "display_name": "Python [conda env:pythonData]",
   "language": "python",
   "name": "conda-env-pythonData-py"
  },
  "language_info": {
   "codemirror_mode": {
    "name": "ipython",
    "version": 3
   },
   "file_extension": ".py",
   "mimetype": "text/x-python",
   "name": "python",
   "nbconvert_exporter": "python",
   "pygments_lexer": "ipython3",
   "version": "3.6.10"
  }
 },
 "nbformat": 4,
 "nbformat_minor": 4
}
